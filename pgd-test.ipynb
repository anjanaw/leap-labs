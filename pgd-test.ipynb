{
 "cells": [
  {
   "cell_type": "code",
   "execution_count": 1,
   "id": "bdc49938",
   "metadata": {},
   "outputs": [
    {
     "name": "stderr",
     "output_type": "stream",
     "text": [
      "/home/anjana/anaconda3/envs/endovit/lib/python3.8/site-packages/tqdm/auto.py:22: TqdmWarning: IProgress not found. Please update jupyter and ipywidgets. See https://ipywidgets.readthedocs.io/en/stable/user_install.html\n",
      "  from .autonotebook import tqdm as notebook_tqdm\n"
     ]
    }
   ],
   "source": [
    "import torch\n",
    "import torch.nn.functional as F\n",
    "from torchvision.models import convnext_tiny, ConvNeXt_Tiny_Weights\n",
    "from torchvision import transforms\n",
    "from torchvision import datasets, transforms\n",
    "from torch.utils.data import DataLoader\n",
    "from PIL import Image\n",
    "from sklearn.metrics import accuracy_score\n",
    "import matplotlib.pyplot as plt"
   ]
  },
  {
   "cell_type": "code",
   "execution_count": 11,
   "id": "aaf9521f",
   "metadata": {},
   "outputs": [],
   "source": [
    "!export CUDA_VISIBLE_DEVICES=1"
   ]
  },
  {
   "cell_type": "code",
   "execution_count": 12,
   "id": "d6ecf75a",
   "metadata": {},
   "outputs": [
    {
     "data": {
      "text/plain": [
       "device(type='cuda')"
      ]
     },
     "execution_count": 12,
     "metadata": {},
     "output_type": "execute_result"
    }
   ],
   "source": [
    "device = torch.device('cuda') if torch.cuda.is_available() else torch.device('cpu')\n",
    "device"
   ]
  },
  {
   "cell_type": "code",
   "execution_count": 16,
   "id": "fb65b733",
   "metadata": {},
   "outputs": [],
   "source": [
    "# Load model\n",
    "model = convnext_tiny(weights=ConvNeXt_Tiny_Weights.DEFAULT).eval()\n",
    "model = model.to(device)\n",
    "# load data. data downlaoded from https://www.kaggle.com/datasets/ifigotin/imagenetmini-1000 \n",
    "path_to_imagenet = \"./imagenet-mini-val\"\n",
    "transform = transforms.Compose([\n",
    "    transforms.Resize((224,224)),\n",
    "    transforms.ToTensor(),\n",
    "])\n",
    "dataset = datasets.ImageFolder(path_to_imagenet, transform=transform)\n",
    "dataloader = DataLoader(dataset, batch_size=1, shuffle=False) # batch_size changed to 1 to test pgd\n"
   ]
  },
  {
   "cell_type": "code",
   "execution_count": 14,
   "id": "e1e269d7",
   "metadata": {},
   "outputs": [
    {
     "name": "stdout",
     "output_type": "stream",
     "text": [
      "0.7705837369360183\n"
     ]
    }
   ],
   "source": [
    "# test classifier \n",
    "\n",
    "all_preds = []\n",
    "all_labels = []\n",
    "\n",
    "with torch.no_grad():\n",
    "    for _, batch in enumerate(dataloader):\n",
    "        inputs, labels = batch\n",
    "        inputs, labels = inputs.to(device), labels.to(device)\n",
    "        \n",
    "        logits = model(inputs)\n",
    "        _, preds = torch.max(logits, 1)\n",
    "        all_preds.extend(preds.cpu().numpy())\n",
    "        all_labels.extend(labels.cpu().numpy())\n",
    "        \n",
    "accuracy = accuracy_score(all_labels, all_preds)\n",
    "print(accuracy)"
   ]
  },
  {
   "cell_type": "code",
   "execution_count": 26,
   "id": "06772be0",
   "metadata": {},
   "outputs": [
    {
     "name": "stdout",
     "output_type": "stream",
     "text": [
      "0.7705837369360183\n",
      "1.0\n"
     ]
    }
   ],
   "source": [
    "epsilon = 8/255\n",
    "alpha = 2/255\n",
    "max_steps = 40\n",
    "\n",
    "all_preds = []\n",
    "all_labels = []\n",
    "all_targets = []\n",
    "all_step = []\n",
    "all_adverse_preds = []\n",
    "\n",
    "\n",
    "for _, batch in enumerate(dataloader):\n",
    "    inputs, labels = batch\n",
    "    inputs, labels = inputs.to(device), labels.to(device)\n",
    "    \n",
    "    logits = model(inputs)\n",
    "    preds = torch.argmax(logits)\n",
    "    all_preds.append(preds.cpu().numpy())\n",
    "    all_labels.append(labels.cpu().numpy()[0])\n",
    "\n",
    "    target_tensor = torch.randint(0, 1000, labels.shape, device=device)\n",
    "    all_targets.append(target_tensor.cpu().numpy()[0])\n",
    "    # print(labels.cpu().numpy()[0], preds.cpu().numpy(), target_tensor.cpu().numpy()[0])\n",
    "    \n",
    "    adverse_image = inputs.clone().detach()\n",
    "    found=False\n",
    "    for step in range(max_steps):\n",
    "        adverse_image.requires_grad = True\n",
    "\n",
    "        adverse_logits = model(adverse_image)\n",
    "        adverse_class = torch.argmax(adverse_logits).item()\n",
    "        \n",
    "        if adverse_class == target_tensor.cpu().numpy()[0]:\n",
    "            all_step.append(step)\n",
    "            all_adverse_preds.append(adverse_class)\n",
    "            found = True\n",
    "            # print(step, adverse_class, target_tensor.cpu().numpy()[0])\n",
    "            break\n",
    "\n",
    "        adverse_loss = -F.cross_entropy(adverse_logits, target_tensor)\n",
    "        grad = torch.autograd.grad(adverse_loss, adverse_image, retain_graph=False, create_graph=False)[0]\n",
    "\n",
    "        adverse_image = adverse_image + alpha * grad.sign()\n",
    "        adverse_image = torch.max(torch.min(adverse_image, inputs + epsilon), inputs - epsilon)\n",
    "        adverse_image = torch.clamp(adverse_image, 0, 1).detach()\n",
    "\n",
    "    if not found:\n",
    "        all_step.append(max_steps)\n",
    "        all_adverse_preds.append(adverse_class)\n",
    "\n",
    "print(accuracy_score(all_labels, all_preds))\n",
    "print(accuracy_score(all_targets, all_adverse_preds))"
   ]
  },
  {
   "cell_type": "code",
   "execution_count": 27,
   "id": "f1fcf2f0",
   "metadata": {},
   "outputs": [
    {
     "name": "stdout",
     "output_type": "stream",
     "text": [
      "Counter({2: 1744, 3: 1398, 4: 398, 1: 285, 5: 76, 6: 16, 0: 4, 7: 1, 8: 1})\n"
     ]
    },
    {
     "data": {
      "text/plain": [
       "(2.561814937547795, 0.8822837660324482, 8, 0)"
      ]
     },
     "execution_count": 27,
     "metadata": {},
     "output_type": "execute_result"
    }
   ],
   "source": [
    "# mean steps \n",
    "import numpy as np\n",
    "from collections import Counter\n",
    "\n",
    "counts = Counter(all_step)\n",
    "print(counts)\n",
    "all_step = np.asarray(all_step)\n",
    "np.mean(all_step), np.std(all_step), np.max(all_step), np.min(all_step)\n"
   ]
  },
  {
   "cell_type": "code",
   "execution_count": null,
   "id": "20e268fe",
   "metadata": {},
   "outputs": [],
   "source": [
    "# epsilon = 8/255\n",
    "# alpha = 2/255\n",
    "# Counter({2: 1744, 3: 1398, 4: 398, 1: 285, 5: 76, 6: 16, 0: 4, 7: 1, 8: 1})\n",
    "# (2.561814937547795, 0.8822837660324482, 8, 0)\n",
    "\n",
    "# epsilon = 4/255\n",
    "# alpha = 1/255\n",
    "# Counter({3: 1633, 2: 1325, 4: 608, 1: 171, 5: 142, 6: 22, 7: 12, 0: 4, 8: 4, 10: 1, 40: 1})\n",
    "# (2.844761661993372, 1.1328366391138112, 40, 0)\n",
    "\n",
    "# epsilon = 1/255\n",
    "# alpha = 0.5/255\n",
    "# Counter({3: 927, 4: 749, 2: 651, 5: 463, 6: 282, 7: 158, 40: 146, 8: 118, 1: 97, 9: 69, 10: 60, 11: 40, 14: 21, 12: 20, 17: 15, 13: 15, 16: 12, 15: 12, 18: 10, 23: 7, 19: 6, 22: 5, 30: 4, 21: 4, 28: 4, 29: 4, 24: 4, 34: 3, 20: 3, 35: 2, 25: 2, 32: 2, 0: 2, 26: 2, 33: 1, 38: 1, 31: 1, 27: 1})\n",
    "# (6.043843996941116, 7.6253140214820725, 40, 0)"
   ]
  }
 ],
 "metadata": {
  "kernelspec": {
   "display_name": "endovit",
   "language": "python",
   "name": "python3"
  },
  "language_info": {
   "codemirror_mode": {
    "name": "ipython",
    "version": 3
   },
   "file_extension": ".py",
   "mimetype": "text/x-python",
   "name": "python",
   "nbconvert_exporter": "python",
   "pygments_lexer": "ipython3",
   "version": "3.8.18"
  }
 },
 "nbformat": 4,
 "nbformat_minor": 5
}
